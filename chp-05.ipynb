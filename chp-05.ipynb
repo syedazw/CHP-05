{
 "cells": [
  {
   "cell_type": "markdown",
   "metadata": {},
   "source": [
    "# Program#5.1"
   ]
  },
  {
   "cell_type": "code",
   "execution_count": 4,
   "metadata": {},
   "outputs": [
    {
     "name": "stdout",
     "output_type": "stream",
     "text": [
      "Normal\n",
      "Underweight\n"
     ]
    }
   ],
   "source": [
    "def myBMI(w,h):\n",
    "    bmi=(w*703)/(h**2)\n",
    "    if bmi < 18.5:\n",
    "        print('Underweight')\n",
    "    elif 18.5 <= bmi<25:\n",
    "        print('Normal')\n",
    "    elif bmi >= 25:\n",
    "        print('Overweight')\n",
    "    else:\n",
    "        print('Finish')\n",
    "        \n",
    "myBMI(190,75)  \n",
    "\n",
    "myBMI(140,75)"
   ]
  },
  {
   "cell_type": "markdown",
   "metadata": {},
   "source": [
    "# Program#5.2"
   ]
  },
  {
   "cell_type": "code",
   "execution_count": 8,
   "metadata": {},
   "outputs": [
    {
     "name": "stdout",
     "output_type": "stream",
     "text": [
      "1 2 4 8 16 32 64 "
     ]
    }
   ],
   "source": [
    "def power(n):\n",
    "    for i in range(0,n+1):\n",
    "        print (2**i,end=' ')\n",
    "power(6)        "
   ]
  },
  {
   "cell_type": "markdown",
   "metadata": {},
   "source": [
    "# Program#5.3"
   ]
  },
  {
   "cell_type": "code",
   "execution_count": 10,
   "metadata": {},
   "outputs": [
    {
     "ename": "IndentationError",
     "evalue": "expected an indented block (<ipython-input-10-64c9c7e79045>, line 3)",
     "output_type": "error",
     "traceback": [
      "\u001b[1;36m  File \u001b[1;32m\"<ipython-input-10-64c9c7e79045>\"\u001b[1;36m, line \u001b[1;32m3\u001b[0m\n\u001b[1;33m    return True\u001b[0m\n\u001b[1;37m         ^\u001b[0m\n\u001b[1;31mIndentationError\u001b[0m\u001b[1;31m:\u001b[0m expected an indented block\n"
     ]
    }
   ],
   "source": [
    "def ari(lst):\n",
    "    if len(lst) < 2:\n",
    "    return True\n",
    "ari([5,0,7])e"
   ]
  },
  {
   "cell_type": "code",
   "execution_count": null,
   "metadata": {},
   "outputs": [],
   "source": []
  }
 ],
 "metadata": {
  "kernelspec": {
   "display_name": "Python 3",
   "language": "python",
   "name": "python3"
  },
  "language_info": {
   "codemirror_mode": {
    "name": "ipython",
    "version": 3
   },
   "file_extension": ".py",
   "mimetype": "text/x-python",
   "name": "python",
   "nbconvert_exporter": "python",
   "pygments_lexer": "ipython3",
   "version": "3.7.3"
  }
 },
 "nbformat": 4,
 "nbformat_minor": 2
}
